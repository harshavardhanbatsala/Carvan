{
  "nbformat": 4,
  "nbformat_minor": 0,
  "metadata": {
    "colab": {
      "provenance": [],
      "authorship_tag": "ABX9TyN7c9+FnJfmRq4I8AgKZD3p",
      "include_colab_link": true
    },
    "kernelspec": {
      "name": "python3",
      "display_name": "Python 3"
    },
    "language_info": {
      "name": "python"
    }
  },
  "cells": [
    {
      "cell_type": "markdown",
      "metadata": {
        "id": "view-in-github",
        "colab_type": "text"
      },
      "source": [
        "<a href=\"https://colab.research.google.com/github/harshavardhanbatsala/Carvan/blob/main/Caravan.ipynb\" target=\"_parent\"><img src=\"https://colab.research.google.com/assets/colab-badge.svg\" alt=\"Open In Colab\"/></a>"
      ]
    },
    {
      "cell_type": "code",
      "source": [
        "import warnings\n",
        "\n",
        "warnings.filterwarnings('ignore')\n",
        "\n",
        "import pandas as pd\n",
        "import numpy as np\n",
        "\n",
        "from sklearn.pipeline import Pipeline,FeatureUnion\n",
        "from sklearn.base import BaseEstimator, TransformerMixin\n"
      ],
      "metadata": {
        "id": "obFaWWli1sSi"
      },
      "execution_count": 1,
      "outputs": []
    },
    {
      "cell_type": "code",
      "source": [
        "train_file=r'https://raw.githubusercontent.com/harshavardhanbatsala/Carvan/main/carvan_train.csv'\n",
        "test_file=r'https://raw.githubusercontent.com/harshavardhanbatsala/Carvan/main/carvan_test.csv'"
      ],
      "metadata": {
        "id": "talQnTfY6MR_"
      },
      "execution_count": 2,
      "outputs": []
    },
    {
      "cell_type": "code",
      "source": [
        "cd_train=pd.read_csv(train_file)\n",
        "cd_test=pd.read_csv(test_file)"
      ],
      "metadata": {
        "id": "V1YDbEe34UaS"
      },
      "execution_count": 3,
      "outputs": []
    },
    {
      "cell_type": "code",
      "source": [
        "cd_train.head()"
      ],
      "metadata": {
        "colab": {
          "base_uri": "https://localhost:8080/",
          "height": 277
        },
        "id": "cB8v_tt34iaz",
        "outputId": "804220db-c32f-40eb-92b1-c18f0f00ab86"
      },
      "execution_count": 4,
      "outputs": [
        {
          "output_type": "execute_result",
          "data": {
            "text/plain": [
              "   V1  V2  V3  V4  V5  V6  V7  V8  V9  V10  ...  V77  V78  V79  V80  V81  V82  \\\n",
              "0  33   1   3   2   8   0   5   1   3    7  ...    0    0    0    1    0    0   \n",
              "1  37   1   2   2   8   1   4   1   4    6  ...    0    0    0    1    0    0   \n",
              "2  37   1   2   2   8   0   4   2   4    3  ...    0    0    0    1    0    0   \n",
              "3   9   1   3   3   3   2   3   2   4    5  ...    0    0    0    1    0    0   \n",
              "4  40   1   4   2  10   1   4   1   4    7  ...    0    0    0    1    0    0   \n",
              "\n",
              "   V83  V84  V85  V86  \n",
              "0    0    0    0    0  \n",
              "1    0    0    0    0  \n",
              "2    0    0    0    0  \n",
              "3    0    0    0    0  \n",
              "4    0    0    0    0  \n",
              "\n",
              "[5 rows x 86 columns]"
            ],
            "text/html": [
              "\n",
              "\n",
              "  <div id=\"df-eef3baa0-db50-4917-b611-dce548b171d6\">\n",
              "    <div class=\"colab-df-container\">\n",
              "      <div>\n",
              "<style scoped>\n",
              "    .dataframe tbody tr th:only-of-type {\n",
              "        vertical-align: middle;\n",
              "    }\n",
              "\n",
              "    .dataframe tbody tr th {\n",
              "        vertical-align: top;\n",
              "    }\n",
              "\n",
              "    .dataframe thead th {\n",
              "        text-align: right;\n",
              "    }\n",
              "</style>\n",
              "<table border=\"1\" class=\"dataframe\">\n",
              "  <thead>\n",
              "    <tr style=\"text-align: right;\">\n",
              "      <th></th>\n",
              "      <th>V1</th>\n",
              "      <th>V2</th>\n",
              "      <th>V3</th>\n",
              "      <th>V4</th>\n",
              "      <th>V5</th>\n",
              "      <th>V6</th>\n",
              "      <th>V7</th>\n",
              "      <th>V8</th>\n",
              "      <th>V9</th>\n",
              "      <th>V10</th>\n",
              "      <th>...</th>\n",
              "      <th>V77</th>\n",
              "      <th>V78</th>\n",
              "      <th>V79</th>\n",
              "      <th>V80</th>\n",
              "      <th>V81</th>\n",
              "      <th>V82</th>\n",
              "      <th>V83</th>\n",
              "      <th>V84</th>\n",
              "      <th>V85</th>\n",
              "      <th>V86</th>\n",
              "    </tr>\n",
              "  </thead>\n",
              "  <tbody>\n",
              "    <tr>\n",
              "      <th>0</th>\n",
              "      <td>33</td>\n",
              "      <td>1</td>\n",
              "      <td>3</td>\n",
              "      <td>2</td>\n",
              "      <td>8</td>\n",
              "      <td>0</td>\n",
              "      <td>5</td>\n",
              "      <td>1</td>\n",
              "      <td>3</td>\n",
              "      <td>7</td>\n",
              "      <td>...</td>\n",
              "      <td>0</td>\n",
              "      <td>0</td>\n",
              "      <td>0</td>\n",
              "      <td>1</td>\n",
              "      <td>0</td>\n",
              "      <td>0</td>\n",
              "      <td>0</td>\n",
              "      <td>0</td>\n",
              "      <td>0</td>\n",
              "      <td>0</td>\n",
              "    </tr>\n",
              "    <tr>\n",
              "      <th>1</th>\n",
              "      <td>37</td>\n",
              "      <td>1</td>\n",
              "      <td>2</td>\n",
              "      <td>2</td>\n",
              "      <td>8</td>\n",
              "      <td>1</td>\n",
              "      <td>4</td>\n",
              "      <td>1</td>\n",
              "      <td>4</td>\n",
              "      <td>6</td>\n",
              "      <td>...</td>\n",
              "      <td>0</td>\n",
              "      <td>0</td>\n",
              "      <td>0</td>\n",
              "      <td>1</td>\n",
              "      <td>0</td>\n",
              "      <td>0</td>\n",
              "      <td>0</td>\n",
              "      <td>0</td>\n",
              "      <td>0</td>\n",
              "      <td>0</td>\n",
              "    </tr>\n",
              "    <tr>\n",
              "      <th>2</th>\n",
              "      <td>37</td>\n",
              "      <td>1</td>\n",
              "      <td>2</td>\n",
              "      <td>2</td>\n",
              "      <td>8</td>\n",
              "      <td>0</td>\n",
              "      <td>4</td>\n",
              "      <td>2</td>\n",
              "      <td>4</td>\n",
              "      <td>3</td>\n",
              "      <td>...</td>\n",
              "      <td>0</td>\n",
              "      <td>0</td>\n",
              "      <td>0</td>\n",
              "      <td>1</td>\n",
              "      <td>0</td>\n",
              "      <td>0</td>\n",
              "      <td>0</td>\n",
              "      <td>0</td>\n",
              "      <td>0</td>\n",
              "      <td>0</td>\n",
              "    </tr>\n",
              "    <tr>\n",
              "      <th>3</th>\n",
              "      <td>9</td>\n",
              "      <td>1</td>\n",
              "      <td>3</td>\n",
              "      <td>3</td>\n",
              "      <td>3</td>\n",
              "      <td>2</td>\n",
              "      <td>3</td>\n",
              "      <td>2</td>\n",
              "      <td>4</td>\n",
              "      <td>5</td>\n",
              "      <td>...</td>\n",
              "      <td>0</td>\n",
              "      <td>0</td>\n",
              "      <td>0</td>\n",
              "      <td>1</td>\n",
              "      <td>0</td>\n",
              "      <td>0</td>\n",
              "      <td>0</td>\n",
              "      <td>0</td>\n",
              "      <td>0</td>\n",
              "      <td>0</td>\n",
              "    </tr>\n",
              "    <tr>\n",
              "      <th>4</th>\n",
              "      <td>40</td>\n",
              "      <td>1</td>\n",
              "      <td>4</td>\n",
              "      <td>2</td>\n",
              "      <td>10</td>\n",
              "      <td>1</td>\n",
              "      <td>4</td>\n",
              "      <td>1</td>\n",
              "      <td>4</td>\n",
              "      <td>7</td>\n",
              "      <td>...</td>\n",
              "      <td>0</td>\n",
              "      <td>0</td>\n",
              "      <td>0</td>\n",
              "      <td>1</td>\n",
              "      <td>0</td>\n",
              "      <td>0</td>\n",
              "      <td>0</td>\n",
              "      <td>0</td>\n",
              "      <td>0</td>\n",
              "      <td>0</td>\n",
              "    </tr>\n",
              "  </tbody>\n",
              "</table>\n",
              "<p>5 rows × 86 columns</p>\n",
              "</div>\n",
              "      <button class=\"colab-df-convert\" onclick=\"convertToInteractive('df-eef3baa0-db50-4917-b611-dce548b171d6')\"\n",
              "              title=\"Convert this dataframe to an interactive table.\"\n",
              "              style=\"display:none;\">\n",
              "\n",
              "  <svg xmlns=\"http://www.w3.org/2000/svg\" height=\"24px\"viewBox=\"0 0 24 24\"\n",
              "       width=\"24px\">\n",
              "    <path d=\"M0 0h24v24H0V0z\" fill=\"none\"/>\n",
              "    <path d=\"M18.56 5.44l.94 2.06.94-2.06 2.06-.94-2.06-.94-.94-2.06-.94 2.06-2.06.94zm-11 1L8.5 8.5l.94-2.06 2.06-.94-2.06-.94L8.5 2.5l-.94 2.06-2.06.94zm10 10l.94 2.06.94-2.06 2.06-.94-2.06-.94-.94-2.06-.94 2.06-2.06.94z\"/><path d=\"M17.41 7.96l-1.37-1.37c-.4-.4-.92-.59-1.43-.59-.52 0-1.04.2-1.43.59L10.3 9.45l-7.72 7.72c-.78.78-.78 2.05 0 2.83L4 21.41c.39.39.9.59 1.41.59.51 0 1.02-.2 1.41-.59l7.78-7.78 2.81-2.81c.8-.78.8-2.07 0-2.86zM5.41 20L4 18.59l7.72-7.72 1.47 1.35L5.41 20z\"/>\n",
              "  </svg>\n",
              "      </button>\n",
              "\n",
              "\n",
              "\n",
              "    <div id=\"df-cb2f7f46-4ef6-47ba-9d89-d67acb0e3611\">\n",
              "      <button class=\"colab-df-quickchart\" onclick=\"quickchart('df-cb2f7f46-4ef6-47ba-9d89-d67acb0e3611')\"\n",
              "              title=\"Suggest charts.\"\n",
              "              style=\"display:none;\">\n",
              "\n",
              "<svg xmlns=\"http://www.w3.org/2000/svg\" height=\"24px\"viewBox=\"0 0 24 24\"\n",
              "     width=\"24px\">\n",
              "    <g>\n",
              "        <path d=\"M19 3H5c-1.1 0-2 .9-2 2v14c0 1.1.9 2 2 2h14c1.1 0 2-.9 2-2V5c0-1.1-.9-2-2-2zM9 17H7v-7h2v7zm4 0h-2V7h2v10zm4 0h-2v-4h2v4z\"/>\n",
              "    </g>\n",
              "</svg>\n",
              "      </button>\n",
              "    </div>\n",
              "\n",
              "<style>\n",
              "  .colab-df-quickchart {\n",
              "    background-color: #E8F0FE;\n",
              "    border: none;\n",
              "    border-radius: 50%;\n",
              "    cursor: pointer;\n",
              "    display: none;\n",
              "    fill: #1967D2;\n",
              "    height: 32px;\n",
              "    padding: 0 0 0 0;\n",
              "    width: 32px;\n",
              "  }\n",
              "\n",
              "  .colab-df-quickchart:hover {\n",
              "    background-color: #E2EBFA;\n",
              "    box-shadow: 0px 1px 2px rgba(60, 64, 67, 0.3), 0px 1px 3px 1px rgba(60, 64, 67, 0.15);\n",
              "    fill: #174EA6;\n",
              "  }\n",
              "\n",
              "  [theme=dark] .colab-df-quickchart {\n",
              "    background-color: #3B4455;\n",
              "    fill: #D2E3FC;\n",
              "  }\n",
              "\n",
              "  [theme=dark] .colab-df-quickchart:hover {\n",
              "    background-color: #434B5C;\n",
              "    box-shadow: 0px 1px 3px 1px rgba(0, 0, 0, 0.15);\n",
              "    filter: drop-shadow(0px 1px 2px rgba(0, 0, 0, 0.3));\n",
              "    fill: #FFFFFF;\n",
              "  }\n",
              "</style>\n",
              "\n",
              "    <script>\n",
              "      async function quickchart(key) {\n",
              "        const containerElement = document.querySelector('#' + key);\n",
              "        const charts = await google.colab.kernel.invokeFunction(\n",
              "            'suggestCharts', [key], {});\n",
              "      }\n",
              "    </script>\n",
              "\n",
              "      <script>\n",
              "\n",
              "function displayQuickchartButton(domScope) {\n",
              "  let quickchartButtonEl =\n",
              "    domScope.querySelector('#df-cb2f7f46-4ef6-47ba-9d89-d67acb0e3611 button.colab-df-quickchart');\n",
              "  quickchartButtonEl.style.display =\n",
              "    google.colab.kernel.accessAllowed ? 'block' : 'none';\n",
              "}\n",
              "\n",
              "        displayQuickchartButton(document);\n",
              "      </script>\n",
              "      <style>\n",
              "    .colab-df-container {\n",
              "      display:flex;\n",
              "      flex-wrap:wrap;\n",
              "      gap: 12px;\n",
              "    }\n",
              "\n",
              "    .colab-df-convert {\n",
              "      background-color: #E8F0FE;\n",
              "      border: none;\n",
              "      border-radius: 50%;\n",
              "      cursor: pointer;\n",
              "      display: none;\n",
              "      fill: #1967D2;\n",
              "      height: 32px;\n",
              "      padding: 0 0 0 0;\n",
              "      width: 32px;\n",
              "    }\n",
              "\n",
              "    .colab-df-convert:hover {\n",
              "      background-color: #E2EBFA;\n",
              "      box-shadow: 0px 1px 2px rgba(60, 64, 67, 0.3), 0px 1px 3px 1px rgba(60, 64, 67, 0.15);\n",
              "      fill: #174EA6;\n",
              "    }\n",
              "\n",
              "    [theme=dark] .colab-df-convert {\n",
              "      background-color: #3B4455;\n",
              "      fill: #D2E3FC;\n",
              "    }\n",
              "\n",
              "    [theme=dark] .colab-df-convert:hover {\n",
              "      background-color: #434B5C;\n",
              "      box-shadow: 0px 1px 3px 1px rgba(0, 0, 0, 0.15);\n",
              "      filter: drop-shadow(0px 1px 2px rgba(0, 0, 0, 0.3));\n",
              "      fill: #FFFFFF;\n",
              "    }\n",
              "  </style>\n",
              "\n",
              "      <script>\n",
              "        const buttonEl =\n",
              "          document.querySelector('#df-eef3baa0-db50-4917-b611-dce548b171d6 button.colab-df-convert');\n",
              "        buttonEl.style.display =\n",
              "          google.colab.kernel.accessAllowed ? 'block' : 'none';\n",
              "\n",
              "        async function convertToInteractive(key) {\n",
              "          const element = document.querySelector('#df-eef3baa0-db50-4917-b611-dce548b171d6');\n",
              "          const dataTable =\n",
              "            await google.colab.kernel.invokeFunction('convertToInteractive',\n",
              "                                                     [key], {});\n",
              "          if (!dataTable) return;\n",
              "\n",
              "          const docLinkHtml = 'Like what you see? Visit the ' +\n",
              "            '<a target=\"_blank\" href=https://colab.research.google.com/notebooks/data_table.ipynb>data table notebook</a>'\n",
              "            + ' to learn more about interactive tables.';\n",
              "          element.innerHTML = '';\n",
              "          dataTable['output_type'] = 'display_data';\n",
              "          await google.colab.output.renderOutput(dataTable, element);\n",
              "          const docLink = document.createElement('div');\n",
              "          docLink.innerHTML = docLinkHtml;\n",
              "          element.appendChild(docLink);\n",
              "        }\n",
              "      </script>\n",
              "    </div>\n",
              "  </div>\n"
            ]
          },
          "metadata": {},
          "execution_count": 4
        }
      ]
    },
    {
      "cell_type": "code",
      "source": [
        "cd_train.describe()"
      ],
      "metadata": {
        "colab": {
          "base_uri": "https://localhost:8080/",
          "height": 390
        },
        "id": "6NrHAWBR6mWe",
        "outputId": "4989cd77-46cd-4b88-a14e-b655f2a573d4"
      },
      "execution_count": 5,
      "outputs": [
        {
          "output_type": "execute_result",
          "data": {
            "text/plain": [
              "                V1           V2           V3           V4           V5  \\\n",
              "count  5822.000000  5822.000000  5822.000000  5822.000000  5822.000000   \n",
              "mean     24.253349     1.110615     2.678805     2.991240     5.773617   \n",
              "std      12.846706     0.405842     0.789835     0.814589     2.856760   \n",
              "min       1.000000     1.000000     1.000000     1.000000     1.000000   \n",
              "25%      10.000000     1.000000     2.000000     2.000000     3.000000   \n",
              "50%      30.000000     1.000000     3.000000     3.000000     7.000000   \n",
              "75%      35.000000     1.000000     3.000000     3.000000     8.000000   \n",
              "max      41.000000    10.000000     5.000000     6.000000    10.000000   \n",
              "\n",
              "                V6           V7           V8           V9          V10  ...  \\\n",
              "count  5822.000000  5822.000000  5822.000000  5822.000000  5822.000000  ...   \n",
              "mean      0.696496     4.626932     1.069907     3.258502     6.183442  ...   \n",
              "std       1.003234     1.715843     1.017503     1.597647     1.909482  ...   \n",
              "min       0.000000     0.000000     0.000000     0.000000     0.000000  ...   \n",
              "25%       0.000000     4.000000     0.000000     2.000000     5.000000  ...   \n",
              "50%       0.000000     5.000000     1.000000     3.000000     6.000000  ...   \n",
              "75%       1.000000     6.000000     2.000000     4.000000     7.000000  ...   \n",
              "max       9.000000     9.000000     5.000000     9.000000     9.000000  ...   \n",
              "\n",
              "               V77          V78          V79          V80          V81  \\\n",
              "count  5822.000000  5822.000000  5822.000000  5822.000000  5822.000000   \n",
              "mean      0.005325     0.006527     0.004638     0.570079     0.000515   \n",
              "std       0.072782     0.080532     0.077403     0.562058     0.022696   \n",
              "min       0.000000     0.000000     0.000000     0.000000     0.000000   \n",
              "25%       0.000000     0.000000     0.000000     0.000000     0.000000   \n",
              "50%       0.000000     0.000000     0.000000     1.000000     0.000000   \n",
              "75%       0.000000     0.000000     0.000000     1.000000     0.000000   \n",
              "max       1.000000     1.000000     2.000000     7.000000     1.000000   \n",
              "\n",
              "               V82          V83          V84          V85          V86  \n",
              "count  5822.000000  5822.000000  5822.000000  5822.000000  5822.000000  \n",
              "mean      0.006012     0.031776     0.007901     0.014256     0.059773  \n",
              "std       0.081632     0.210986     0.090463     0.119996     0.237087  \n",
              "min       0.000000     0.000000     0.000000     0.000000     0.000000  \n",
              "25%       0.000000     0.000000     0.000000     0.000000     0.000000  \n",
              "50%       0.000000     0.000000     0.000000     0.000000     0.000000  \n",
              "75%       0.000000     0.000000     0.000000     0.000000     0.000000  \n",
              "max       2.000000     3.000000     2.000000     2.000000     1.000000  \n",
              "\n",
              "[8 rows x 86 columns]"
            ],
            "text/html": [
              "\n",
              "\n",
              "  <div id=\"df-6b0a5d0b-d81e-44e7-bfde-0f8a43e20716\">\n",
              "    <div class=\"colab-df-container\">\n",
              "      <div>\n",
              "<style scoped>\n",
              "    .dataframe tbody tr th:only-of-type {\n",
              "        vertical-align: middle;\n",
              "    }\n",
              "\n",
              "    .dataframe tbody tr th {\n",
              "        vertical-align: top;\n",
              "    }\n",
              "\n",
              "    .dataframe thead th {\n",
              "        text-align: right;\n",
              "    }\n",
              "</style>\n",
              "<table border=\"1\" class=\"dataframe\">\n",
              "  <thead>\n",
              "    <tr style=\"text-align: right;\">\n",
              "      <th></th>\n",
              "      <th>V1</th>\n",
              "      <th>V2</th>\n",
              "      <th>V3</th>\n",
              "      <th>V4</th>\n",
              "      <th>V5</th>\n",
              "      <th>V6</th>\n",
              "      <th>V7</th>\n",
              "      <th>V8</th>\n",
              "      <th>V9</th>\n",
              "      <th>V10</th>\n",
              "      <th>...</th>\n",
              "      <th>V77</th>\n",
              "      <th>V78</th>\n",
              "      <th>V79</th>\n",
              "      <th>V80</th>\n",
              "      <th>V81</th>\n",
              "      <th>V82</th>\n",
              "      <th>V83</th>\n",
              "      <th>V84</th>\n",
              "      <th>V85</th>\n",
              "      <th>V86</th>\n",
              "    </tr>\n",
              "  </thead>\n",
              "  <tbody>\n",
              "    <tr>\n",
              "      <th>count</th>\n",
              "      <td>5822.000000</td>\n",
              "      <td>5822.000000</td>\n",
              "      <td>5822.000000</td>\n",
              "      <td>5822.000000</td>\n",
              "      <td>5822.000000</td>\n",
              "      <td>5822.000000</td>\n",
              "      <td>5822.000000</td>\n",
              "      <td>5822.000000</td>\n",
              "      <td>5822.000000</td>\n",
              "      <td>5822.000000</td>\n",
              "      <td>...</td>\n",
              "      <td>5822.000000</td>\n",
              "      <td>5822.000000</td>\n",
              "      <td>5822.000000</td>\n",
              "      <td>5822.000000</td>\n",
              "      <td>5822.000000</td>\n",
              "      <td>5822.000000</td>\n",
              "      <td>5822.000000</td>\n",
              "      <td>5822.000000</td>\n",
              "      <td>5822.000000</td>\n",
              "      <td>5822.000000</td>\n",
              "    </tr>\n",
              "    <tr>\n",
              "      <th>mean</th>\n",
              "      <td>24.253349</td>\n",
              "      <td>1.110615</td>\n",
              "      <td>2.678805</td>\n",
              "      <td>2.991240</td>\n",
              "      <td>5.773617</td>\n",
              "      <td>0.696496</td>\n",
              "      <td>4.626932</td>\n",
              "      <td>1.069907</td>\n",
              "      <td>3.258502</td>\n",
              "      <td>6.183442</td>\n",
              "      <td>...</td>\n",
              "      <td>0.005325</td>\n",
              "      <td>0.006527</td>\n",
              "      <td>0.004638</td>\n",
              "      <td>0.570079</td>\n",
              "      <td>0.000515</td>\n",
              "      <td>0.006012</td>\n",
              "      <td>0.031776</td>\n",
              "      <td>0.007901</td>\n",
              "      <td>0.014256</td>\n",
              "      <td>0.059773</td>\n",
              "    </tr>\n",
              "    <tr>\n",
              "      <th>std</th>\n",
              "      <td>12.846706</td>\n",
              "      <td>0.405842</td>\n",
              "      <td>0.789835</td>\n",
              "      <td>0.814589</td>\n",
              "      <td>2.856760</td>\n",
              "      <td>1.003234</td>\n",
              "      <td>1.715843</td>\n",
              "      <td>1.017503</td>\n",
              "      <td>1.597647</td>\n",
              "      <td>1.909482</td>\n",
              "      <td>...</td>\n",
              "      <td>0.072782</td>\n",
              "      <td>0.080532</td>\n",
              "      <td>0.077403</td>\n",
              "      <td>0.562058</td>\n",
              "      <td>0.022696</td>\n",
              "      <td>0.081632</td>\n",
              "      <td>0.210986</td>\n",
              "      <td>0.090463</td>\n",
              "      <td>0.119996</td>\n",
              "      <td>0.237087</td>\n",
              "    </tr>\n",
              "    <tr>\n",
              "      <th>min</th>\n",
              "      <td>1.000000</td>\n",
              "      <td>1.000000</td>\n",
              "      <td>1.000000</td>\n",
              "      <td>1.000000</td>\n",
              "      <td>1.000000</td>\n",
              "      <td>0.000000</td>\n",
              "      <td>0.000000</td>\n",
              "      <td>0.000000</td>\n",
              "      <td>0.000000</td>\n",
              "      <td>0.000000</td>\n",
              "      <td>...</td>\n",
              "      <td>0.000000</td>\n",
              "      <td>0.000000</td>\n",
              "      <td>0.000000</td>\n",
              "      <td>0.000000</td>\n",
              "      <td>0.000000</td>\n",
              "      <td>0.000000</td>\n",
              "      <td>0.000000</td>\n",
              "      <td>0.000000</td>\n",
              "      <td>0.000000</td>\n",
              "      <td>0.000000</td>\n",
              "    </tr>\n",
              "    <tr>\n",
              "      <th>25%</th>\n",
              "      <td>10.000000</td>\n",
              "      <td>1.000000</td>\n",
              "      <td>2.000000</td>\n",
              "      <td>2.000000</td>\n",
              "      <td>3.000000</td>\n",
              "      <td>0.000000</td>\n",
              "      <td>4.000000</td>\n",
              "      <td>0.000000</td>\n",
              "      <td>2.000000</td>\n",
              "      <td>5.000000</td>\n",
              "      <td>...</td>\n",
              "      <td>0.000000</td>\n",
              "      <td>0.000000</td>\n",
              "      <td>0.000000</td>\n",
              "      <td>0.000000</td>\n",
              "      <td>0.000000</td>\n",
              "      <td>0.000000</td>\n",
              "      <td>0.000000</td>\n",
              "      <td>0.000000</td>\n",
              "      <td>0.000000</td>\n",
              "      <td>0.000000</td>\n",
              "    </tr>\n",
              "    <tr>\n",
              "      <th>50%</th>\n",
              "      <td>30.000000</td>\n",
              "      <td>1.000000</td>\n",
              "      <td>3.000000</td>\n",
              "      <td>3.000000</td>\n",
              "      <td>7.000000</td>\n",
              "      <td>0.000000</td>\n",
              "      <td>5.000000</td>\n",
              "      <td>1.000000</td>\n",
              "      <td>3.000000</td>\n",
              "      <td>6.000000</td>\n",
              "      <td>...</td>\n",
              "      <td>0.000000</td>\n",
              "      <td>0.000000</td>\n",
              "      <td>0.000000</td>\n",
              "      <td>1.000000</td>\n",
              "      <td>0.000000</td>\n",
              "      <td>0.000000</td>\n",
              "      <td>0.000000</td>\n",
              "      <td>0.000000</td>\n",
              "      <td>0.000000</td>\n",
              "      <td>0.000000</td>\n",
              "    </tr>\n",
              "    <tr>\n",
              "      <th>75%</th>\n",
              "      <td>35.000000</td>\n",
              "      <td>1.000000</td>\n",
              "      <td>3.000000</td>\n",
              "      <td>3.000000</td>\n",
              "      <td>8.000000</td>\n",
              "      <td>1.000000</td>\n",
              "      <td>6.000000</td>\n",
              "      <td>2.000000</td>\n",
              "      <td>4.000000</td>\n",
              "      <td>7.000000</td>\n",
              "      <td>...</td>\n",
              "      <td>0.000000</td>\n",
              "      <td>0.000000</td>\n",
              "      <td>0.000000</td>\n",
              "      <td>1.000000</td>\n",
              "      <td>0.000000</td>\n",
              "      <td>0.000000</td>\n",
              "      <td>0.000000</td>\n",
              "      <td>0.000000</td>\n",
              "      <td>0.000000</td>\n",
              "      <td>0.000000</td>\n",
              "    </tr>\n",
              "    <tr>\n",
              "      <th>max</th>\n",
              "      <td>41.000000</td>\n",
              "      <td>10.000000</td>\n",
              "      <td>5.000000</td>\n",
              "      <td>6.000000</td>\n",
              "      <td>10.000000</td>\n",
              "      <td>9.000000</td>\n",
              "      <td>9.000000</td>\n",
              "      <td>5.000000</td>\n",
              "      <td>9.000000</td>\n",
              "      <td>9.000000</td>\n",
              "      <td>...</td>\n",
              "      <td>1.000000</td>\n",
              "      <td>1.000000</td>\n",
              "      <td>2.000000</td>\n",
              "      <td>7.000000</td>\n",
              "      <td>1.000000</td>\n",
              "      <td>2.000000</td>\n",
              "      <td>3.000000</td>\n",
              "      <td>2.000000</td>\n",
              "      <td>2.000000</td>\n",
              "      <td>1.000000</td>\n",
              "    </tr>\n",
              "  </tbody>\n",
              "</table>\n",
              "<p>8 rows × 86 columns</p>\n",
              "</div>\n",
              "      <button class=\"colab-df-convert\" onclick=\"convertToInteractive('df-6b0a5d0b-d81e-44e7-bfde-0f8a43e20716')\"\n",
              "              title=\"Convert this dataframe to an interactive table.\"\n",
              "              style=\"display:none;\">\n",
              "\n",
              "  <svg xmlns=\"http://www.w3.org/2000/svg\" height=\"24px\"viewBox=\"0 0 24 24\"\n",
              "       width=\"24px\">\n",
              "    <path d=\"M0 0h24v24H0V0z\" fill=\"none\"/>\n",
              "    <path d=\"M18.56 5.44l.94 2.06.94-2.06 2.06-.94-2.06-.94-.94-2.06-.94 2.06-2.06.94zm-11 1L8.5 8.5l.94-2.06 2.06-.94-2.06-.94L8.5 2.5l-.94 2.06-2.06.94zm10 10l.94 2.06.94-2.06 2.06-.94-2.06-.94-.94-2.06-.94 2.06-2.06.94z\"/><path d=\"M17.41 7.96l-1.37-1.37c-.4-.4-.92-.59-1.43-.59-.52 0-1.04.2-1.43.59L10.3 9.45l-7.72 7.72c-.78.78-.78 2.05 0 2.83L4 21.41c.39.39.9.59 1.41.59.51 0 1.02-.2 1.41-.59l7.78-7.78 2.81-2.81c.8-.78.8-2.07 0-2.86zM5.41 20L4 18.59l7.72-7.72 1.47 1.35L5.41 20z\"/>\n",
              "  </svg>\n",
              "      </button>\n",
              "\n",
              "\n",
              "\n",
              "    <div id=\"df-495a7ba4-b5b0-4893-8447-e157888e8dff\">\n",
              "      <button class=\"colab-df-quickchart\" onclick=\"quickchart('df-495a7ba4-b5b0-4893-8447-e157888e8dff')\"\n",
              "              title=\"Suggest charts.\"\n",
              "              style=\"display:none;\">\n",
              "\n",
              "<svg xmlns=\"http://www.w3.org/2000/svg\" height=\"24px\"viewBox=\"0 0 24 24\"\n",
              "     width=\"24px\">\n",
              "    <g>\n",
              "        <path d=\"M19 3H5c-1.1 0-2 .9-2 2v14c0 1.1.9 2 2 2h14c1.1 0 2-.9 2-2V5c0-1.1-.9-2-2-2zM9 17H7v-7h2v7zm4 0h-2V7h2v10zm4 0h-2v-4h2v4z\"/>\n",
              "    </g>\n",
              "</svg>\n",
              "      </button>\n",
              "    </div>\n",
              "\n",
              "<style>\n",
              "  .colab-df-quickchart {\n",
              "    background-color: #E8F0FE;\n",
              "    border: none;\n",
              "    border-radius: 50%;\n",
              "    cursor: pointer;\n",
              "    display: none;\n",
              "    fill: #1967D2;\n",
              "    height: 32px;\n",
              "    padding: 0 0 0 0;\n",
              "    width: 32px;\n",
              "  }\n",
              "\n",
              "  .colab-df-quickchart:hover {\n",
              "    background-color: #E2EBFA;\n",
              "    box-shadow: 0px 1px 2px rgba(60, 64, 67, 0.3), 0px 1px 3px 1px rgba(60, 64, 67, 0.15);\n",
              "    fill: #174EA6;\n",
              "  }\n",
              "\n",
              "  [theme=dark] .colab-df-quickchart {\n",
              "    background-color: #3B4455;\n",
              "    fill: #D2E3FC;\n",
              "  }\n",
              "\n",
              "  [theme=dark] .colab-df-quickchart:hover {\n",
              "    background-color: #434B5C;\n",
              "    box-shadow: 0px 1px 3px 1px rgba(0, 0, 0, 0.15);\n",
              "    filter: drop-shadow(0px 1px 2px rgba(0, 0, 0, 0.3));\n",
              "    fill: #FFFFFF;\n",
              "  }\n",
              "</style>\n",
              "\n",
              "    <script>\n",
              "      async function quickchart(key) {\n",
              "        const containerElement = document.querySelector('#' + key);\n",
              "        const charts = await google.colab.kernel.invokeFunction(\n",
              "            'suggestCharts', [key], {});\n",
              "      }\n",
              "    </script>\n",
              "\n",
              "      <script>\n",
              "\n",
              "function displayQuickchartButton(domScope) {\n",
              "  let quickchartButtonEl =\n",
              "    domScope.querySelector('#df-495a7ba4-b5b0-4893-8447-e157888e8dff button.colab-df-quickchart');\n",
              "  quickchartButtonEl.style.display =\n",
              "    google.colab.kernel.accessAllowed ? 'block' : 'none';\n",
              "}\n",
              "\n",
              "        displayQuickchartButton(document);\n",
              "      </script>\n",
              "      <style>\n",
              "    .colab-df-container {\n",
              "      display:flex;\n",
              "      flex-wrap:wrap;\n",
              "      gap: 12px;\n",
              "    }\n",
              "\n",
              "    .colab-df-convert {\n",
              "      background-color: #E8F0FE;\n",
              "      border: none;\n",
              "      border-radius: 50%;\n",
              "      cursor: pointer;\n",
              "      display: none;\n",
              "      fill: #1967D2;\n",
              "      height: 32px;\n",
              "      padding: 0 0 0 0;\n",
              "      width: 32px;\n",
              "    }\n",
              "\n",
              "    .colab-df-convert:hover {\n",
              "      background-color: #E2EBFA;\n",
              "      box-shadow: 0px 1px 2px rgba(60, 64, 67, 0.3), 0px 1px 3px 1px rgba(60, 64, 67, 0.15);\n",
              "      fill: #174EA6;\n",
              "    }\n",
              "\n",
              "    [theme=dark] .colab-df-convert {\n",
              "      background-color: #3B4455;\n",
              "      fill: #D2E3FC;\n",
              "    }\n",
              "\n",
              "    [theme=dark] .colab-df-convert:hover {\n",
              "      background-color: #434B5C;\n",
              "      box-shadow: 0px 1px 3px 1px rgba(0, 0, 0, 0.15);\n",
              "      filter: drop-shadow(0px 1px 2px rgba(0, 0, 0, 0.3));\n",
              "      fill: #FFFFFF;\n",
              "    }\n",
              "  </style>\n",
              "\n",
              "      <script>\n",
              "        const buttonEl =\n",
              "          document.querySelector('#df-6b0a5d0b-d81e-44e7-bfde-0f8a43e20716 button.colab-df-convert');\n",
              "        buttonEl.style.display =\n",
              "          google.colab.kernel.accessAllowed ? 'block' : 'none';\n",
              "\n",
              "        async function convertToInteractive(key) {\n",
              "          const element = document.querySelector('#df-6b0a5d0b-d81e-44e7-bfde-0f8a43e20716');\n",
              "          const dataTable =\n",
              "            await google.colab.kernel.invokeFunction('convertToInteractive',\n",
              "                                                     [key], {});\n",
              "          if (!dataTable) return;\n",
              "\n",
              "          const docLinkHtml = 'Like what you see? Visit the ' +\n",
              "            '<a target=\"_blank\" href=https://colab.research.google.com/notebooks/data_table.ipynb>data table notebook</a>'\n",
              "            + ' to learn more about interactive tables.';\n",
              "          element.innerHTML = '';\n",
              "          dataTable['output_type'] = 'display_data';\n",
              "          await google.colab.output.renderOutput(dataTable, element);\n",
              "          const docLink = document.createElement('div');\n",
              "          docLink.innerHTML = docLinkHtml;\n",
              "          element.appendChild(docLink);\n",
              "        }\n",
              "      </script>\n",
              "    </div>\n",
              "  </div>\n"
            ]
          },
          "metadata": {},
          "execution_count": 5
        }
      ]
    },
    {
      "cell_type": "code",
      "source": [
        "cd_train.info()"
      ],
      "metadata": {
        "colab": {
          "base_uri": "https://localhost:8080/"
        },
        "id": "syWta1d0607A",
        "outputId": "4fb91908-8605-40db-b42c-af58ed8e02ac"
      },
      "execution_count": 6,
      "outputs": [
        {
          "output_type": "stream",
          "name": "stdout",
          "text": [
            "<class 'pandas.core.frame.DataFrame'>\n",
            "RangeIndex: 5822 entries, 0 to 5821\n",
            "Data columns (total 86 columns):\n",
            " #   Column  Non-Null Count  Dtype\n",
            "---  ------  --------------  -----\n",
            " 0   V1      5822 non-null   int64\n",
            " 1   V2      5822 non-null   int64\n",
            " 2   V3      5822 non-null   int64\n",
            " 3   V4      5822 non-null   int64\n",
            " 4   V5      5822 non-null   int64\n",
            " 5   V6      5822 non-null   int64\n",
            " 6   V7      5822 non-null   int64\n",
            " 7   V8      5822 non-null   int64\n",
            " 8   V9      5822 non-null   int64\n",
            " 9   V10     5822 non-null   int64\n",
            " 10  V11     5822 non-null   int64\n",
            " 11  V12     5822 non-null   int64\n",
            " 12  V13     5822 non-null   int64\n",
            " 13  V14     5822 non-null   int64\n",
            " 14  V15     5822 non-null   int64\n",
            " 15  V16     5822 non-null   int64\n",
            " 16  V17     5822 non-null   int64\n",
            " 17  V18     5822 non-null   int64\n",
            " 18  V19     5822 non-null   int64\n",
            " 19  V20     5822 non-null   int64\n",
            " 20  V21     5822 non-null   int64\n",
            " 21  V22     5822 non-null   int64\n",
            " 22  V23     5822 non-null   int64\n",
            " 23  V24     5822 non-null   int64\n",
            " 24  V25     5822 non-null   int64\n",
            " 25  V26     5822 non-null   int64\n",
            " 26  V27     5822 non-null   int64\n",
            " 27  V28     5822 non-null   int64\n",
            " 28  V29     5822 non-null   int64\n",
            " 29  V30     5822 non-null   int64\n",
            " 30  V31     5822 non-null   int64\n",
            " 31  V32     5822 non-null   int64\n",
            " 32  V33     5822 non-null   int64\n",
            " 33  V34     5822 non-null   int64\n",
            " 34  V35     5822 non-null   int64\n",
            " 35  V36     5822 non-null   int64\n",
            " 36  V37     5822 non-null   int64\n",
            " 37  V38     5822 non-null   int64\n",
            " 38  V39     5822 non-null   int64\n",
            " 39  V40     5822 non-null   int64\n",
            " 40  V41     5822 non-null   int64\n",
            " 41  V42     5822 non-null   int64\n",
            " 42  V43     5822 non-null   int64\n",
            " 43  V44     5822 non-null   int64\n",
            " 44  V45     5822 non-null   int64\n",
            " 45  V46     5822 non-null   int64\n",
            " 46  V47     5822 non-null   int64\n",
            " 47  V48     5822 non-null   int64\n",
            " 48  V49     5822 non-null   int64\n",
            " 49  V50     5822 non-null   int64\n",
            " 50  V51     5822 non-null   int64\n",
            " 51  V52     5822 non-null   int64\n",
            " 52  V53     5822 non-null   int64\n",
            " 53  V54     5822 non-null   int64\n",
            " 54  V55     5822 non-null   int64\n",
            " 55  V56     5822 non-null   int64\n",
            " 56  V57     5822 non-null   int64\n",
            " 57  V58     5822 non-null   int64\n",
            " 58  V59     5822 non-null   int64\n",
            " 59  V60     5822 non-null   int64\n",
            " 60  V61     5822 non-null   int64\n",
            " 61  V62     5822 non-null   int64\n",
            " 62  V63     5822 non-null   int64\n",
            " 63  V64     5822 non-null   int64\n",
            " 64  V65     5822 non-null   int64\n",
            " 65  V66     5822 non-null   int64\n",
            " 66  V67     5822 non-null   int64\n",
            " 67  V68     5822 non-null   int64\n",
            " 68  V69     5822 non-null   int64\n",
            " 69  V70     5822 non-null   int64\n",
            " 70  V71     5822 non-null   int64\n",
            " 71  V72     5822 non-null   int64\n",
            " 72  V73     5822 non-null   int64\n",
            " 73  V74     5822 non-null   int64\n",
            " 74  V75     5822 non-null   int64\n",
            " 75  V76     5822 non-null   int64\n",
            " 76  V77     5822 non-null   int64\n",
            " 77  V78     5822 non-null   int64\n",
            " 78  V79     5822 non-null   int64\n",
            " 79  V80     5822 non-null   int64\n",
            " 80  V81     5822 non-null   int64\n",
            " 81  V82     5822 non-null   int64\n",
            " 82  V83     5822 non-null   int64\n",
            " 83  V84     5822 non-null   int64\n",
            " 84  V85     5822 non-null   int64\n",
            " 85  V86     5822 non-null   int64\n",
            "dtypes: int64(86)\n",
            "memory usage: 3.8 MB\n"
          ]
        }
      ]
    },
    {
      "cell_type": "code",
      "source": [
        "cd_train.dtypes"
      ],
      "metadata": {
        "colab": {
          "base_uri": "https://localhost:8080/"
        },
        "id": "RJfxvXKgAOX_",
        "outputId": "644d261e-7110-4284-c139-65de0038b7f2"
      },
      "execution_count": 7,
      "outputs": [
        {
          "output_type": "execute_result",
          "data": {
            "text/plain": [
              "V1     int64\n",
              "V2     int64\n",
              "V3     int64\n",
              "V4     int64\n",
              "V5     int64\n",
              "       ...  \n",
              "V82    int64\n",
              "V83    int64\n",
              "V84    int64\n",
              "V85    int64\n",
              "V86    int64\n",
              "Length: 86, dtype: object"
            ]
          },
          "metadata": {},
          "execution_count": 7
        }
      ]
    },
    {
      "cell_type": "code",
      "source": [
        "cd_test.info()"
      ],
      "metadata": {
        "colab": {
          "base_uri": "https://localhost:8080/"
        },
        "id": "nJYCZhV92Sja",
        "outputId": "8b71459d-bfef-4c33-e900-f887f7c39a6e"
      },
      "execution_count": 8,
      "outputs": [
        {
          "output_type": "stream",
          "name": "stdout",
          "text": [
            "<class 'pandas.core.frame.DataFrame'>\n",
            "RangeIndex: 4000 entries, 0 to 3999\n",
            "Data columns (total 85 columns):\n",
            " #   Column  Non-Null Count  Dtype\n",
            "---  ------  --------------  -----\n",
            " 0   V1      4000 non-null   int64\n",
            " 1   V2      4000 non-null   int64\n",
            " 2   V3      4000 non-null   int64\n",
            " 3   V4      4000 non-null   int64\n",
            " 4   V5      4000 non-null   int64\n",
            " 5   V6      4000 non-null   int64\n",
            " 6   V7      4000 non-null   int64\n",
            " 7   V8      4000 non-null   int64\n",
            " 8   V9      4000 non-null   int64\n",
            " 9   V10     4000 non-null   int64\n",
            " 10  V11     4000 non-null   int64\n",
            " 11  V12     4000 non-null   int64\n",
            " 12  V13     4000 non-null   int64\n",
            " 13  V14     4000 non-null   int64\n",
            " 14  V15     4000 non-null   int64\n",
            " 15  V16     4000 non-null   int64\n",
            " 16  V17     4000 non-null   int64\n",
            " 17  V18     4000 non-null   int64\n",
            " 18  V19     4000 non-null   int64\n",
            " 19  V20     4000 non-null   int64\n",
            " 20  V21     4000 non-null   int64\n",
            " 21  V22     4000 non-null   int64\n",
            " 22  V23     4000 non-null   int64\n",
            " 23  V24     4000 non-null   int64\n",
            " 24  V25     4000 non-null   int64\n",
            " 25  V26     4000 non-null   int64\n",
            " 26  V27     4000 non-null   int64\n",
            " 27  V28     4000 non-null   int64\n",
            " 28  V29     4000 non-null   int64\n",
            " 29  V30     4000 non-null   int64\n",
            " 30  V31     4000 non-null   int64\n",
            " 31  V32     4000 non-null   int64\n",
            " 32  V33     4000 non-null   int64\n",
            " 33  V34     4000 non-null   int64\n",
            " 34  V35     4000 non-null   int64\n",
            " 35  V36     4000 non-null   int64\n",
            " 36  V37     4000 non-null   int64\n",
            " 37  V38     4000 non-null   int64\n",
            " 38  V39     4000 non-null   int64\n",
            " 39  V40     4000 non-null   int64\n",
            " 40  V41     4000 non-null   int64\n",
            " 41  V42     4000 non-null   int64\n",
            " 42  V43     4000 non-null   int64\n",
            " 43  V44     4000 non-null   int64\n",
            " 44  V45     4000 non-null   int64\n",
            " 45  V46     4000 non-null   int64\n",
            " 46  V47     4000 non-null   int64\n",
            " 47  V48     4000 non-null   int64\n",
            " 48  V49     4000 non-null   int64\n",
            " 49  V50     4000 non-null   int64\n",
            " 50  V51     4000 non-null   int64\n",
            " 51  V52     4000 non-null   int64\n",
            " 52  V53     4000 non-null   int64\n",
            " 53  V54     4000 non-null   int64\n",
            " 54  V55     4000 non-null   int64\n",
            " 55  V56     4000 non-null   int64\n",
            " 56  V57     4000 non-null   int64\n",
            " 57  V58     4000 non-null   int64\n",
            " 58  V59     4000 non-null   int64\n",
            " 59  V60     4000 non-null   int64\n",
            " 60  V61     4000 non-null   int64\n",
            " 61  V62     4000 non-null   int64\n",
            " 62  V63     4000 non-null   int64\n",
            " 63  V64     4000 non-null   int64\n",
            " 64  V65     4000 non-null   int64\n",
            " 65  V66     4000 non-null   int64\n",
            " 66  V67     4000 non-null   int64\n",
            " 67  V68     4000 non-null   int64\n",
            " 68  V69     4000 non-null   int64\n",
            " 69  V70     4000 non-null   int64\n",
            " 70  V71     4000 non-null   int64\n",
            " 71  V72     4000 non-null   int64\n",
            " 72  V73     4000 non-null   int64\n",
            " 73  V74     4000 non-null   int64\n",
            " 74  V75     4000 non-null   int64\n",
            " 75  V76     4000 non-null   int64\n",
            " 76  V77     4000 non-null   int64\n",
            " 77  V78     4000 non-null   int64\n",
            " 78  V79     4000 non-null   int64\n",
            " 79  V80     4000 non-null   int64\n",
            " 80  V81     4000 non-null   int64\n",
            " 81  V82     4000 non-null   int64\n",
            " 82  V83     4000 non-null   int64\n",
            " 83  V84     4000 non-null   int64\n",
            " 84  V85     4000 non-null   int64\n",
            "dtypes: int64(85)\n",
            "memory usage: 2.6 MB\n"
          ]
        }
      ]
    },
    {
      "cell_type": "code",
      "source": [
        "from sklearn.model_selection import train_test_split\n",
        "from sklearn.linear_model import LogisticRegression"
      ],
      "metadata": {
        "id": "CmYpv7AT2mvQ"
      },
      "execution_count": 9,
      "outputs": []
    },
    {
      "cell_type": "code",
      "source": [
        "cd_train1,cd_train2=train_test_split(cd_train,train_size=0.8,random_state=27)"
      ],
      "metadata": {
        "id": "9hIzo9dh3BuV"
      },
      "execution_count": 10,
      "outputs": []
    },
    {
      "cell_type": "code",
      "source": [
        "cd_train1.shape"
      ],
      "metadata": {
        "colab": {
          "base_uri": "https://localhost:8080/"
        },
        "id": "Pt6qYy4s3dwF",
        "outputId": "cc7fb16b-d9fd-4f76-f5f6-ab6137ee239a"
      },
      "execution_count": 11,
      "outputs": [
        {
          "output_type": "execute_result",
          "data": {
            "text/plain": [
              "(4657, 86)"
            ]
          },
          "metadata": {},
          "execution_count": 11
        }
      ]
    },
    {
      "cell_type": "code",
      "source": [
        "cd_train2.shape"
      ],
      "metadata": {
        "colab": {
          "base_uri": "https://localhost:8080/"
        },
        "id": "vFWT2XSS3jf-",
        "outputId": "b987db78-aba2-40af-ce91-16e2655d655d"
      },
      "execution_count": 12,
      "outputs": [
        {
          "output_type": "execute_result",
          "data": {
            "text/plain": [
              "(1165, 86)"
            ]
          },
          "metadata": {},
          "execution_count": 12
        }
      ]
    },
    {
      "cell_type": "code",
      "source": [
        "x_train1=cd_train1.drop('V86',axis=1)\n",
        "y_train1=cd_train1['V86']"
      ],
      "metadata": {
        "id": "ZoSsVHXD3n1v"
      },
      "execution_count": 29,
      "outputs": []
    },
    {
      "cell_type": "code",
      "source": [
        "x_train2=cd_train2.drop('V86',axis=1)\n",
        "y_train2=cd_train2['V86']"
      ],
      "metadata": {
        "id": "us3lMqDe4VZX"
      },
      "execution_count": 30,
      "outputs": []
    },
    {
      "cell_type": "code",
      "source": [
        "model=LogisticRegression(fit_intercept=True)"
      ],
      "metadata": {
        "id": "ok-vfdFr4gFc"
      },
      "execution_count": 31,
      "outputs": []
    },
    {
      "cell_type": "code",
      "source": [
        "params={'class_weight':['balanced',None],\n",
        "        'penalty':['l1','l2'],\n",
        "        'C':np.linspace(0.0001,0.1,100)}"
      ],
      "metadata": {
        "id": "HpFUFM3N4sa_"
      },
      "execution_count": 42,
      "outputs": []
    },
    {
      "cell_type": "code",
      "source": [
        "from sklearn.model_selection import GridSearchCV"
      ],
      "metadata": {
        "id": "K12nDzQB5hEa"
      },
      "execution_count": 43,
      "outputs": []
    },
    {
      "cell_type": "code",
      "source": [
        "grid_search=GridSearchCV(model,param_grid=params,cv=10,scoring=\"roc_auc\")"
      ],
      "metadata": {
        "id": "HwVFxyK65rpf"
      },
      "execution_count": 44,
      "outputs": []
    },
    {
      "cell_type": "code",
      "source": [
        "grid_search.fit(x_train1,y_train1)"
      ],
      "metadata": {
        "colab": {
          "base_uri": "https://localhost:8080/",
          "height": 115
        },
        "id": "3uHRcM1m6LdM",
        "outputId": "4adfc40b-d83b-4035-e64b-4a37e92b5982"
      },
      "execution_count": 45,
      "outputs": [
        {
          "output_type": "execute_result",
          "data": {
            "text/plain": [
              "GridSearchCV(cv=10, estimator=LogisticRegression(),\n",
              "             param_grid={'C': array([0.0001    , 0.00110909, 0.00211818, 0.00312727, 0.00413636,\n",
              "       0.00514545, 0.00615455, 0.00716364, 0.00817273, 0.00918182,\n",
              "       0.01019091, 0.0112    , 0.01220909, 0.01321818, 0.01422727,\n",
              "       0.01523636, 0.01624545, 0.01725455, 0.01826364, 0.01927273,\n",
              "       0.02028182, 0.02129091, 0.0223    , 0.02330909, 0.02431818,\n",
              "       0.02532727, 0.0...\n",
              "       0.07073636, 0.07174545, 0.07275455, 0.07376364, 0.07477273,\n",
              "       0.07578182, 0.07679091, 0.0778    , 0.07880909, 0.07981818,\n",
              "       0.08082727, 0.08183636, 0.08284545, 0.08385455, 0.08486364,\n",
              "       0.08587273, 0.08688182, 0.08789091, 0.0889    , 0.08990909,\n",
              "       0.09091818, 0.09192727, 0.09293636, 0.09394545, 0.09495455,\n",
              "       0.09596364, 0.09697273, 0.09798182, 0.09899091, 0.1       ]),\n",
              "                         'class_weight': ['balanced', None],\n",
              "                         'penalty': ['l1', 'l2']},\n",
              "             scoring='roc_auc')"
            ],
            "text/html": [
              "<style>#sk-container-id-7 {color: black;background-color: white;}#sk-container-id-7 pre{padding: 0;}#sk-container-id-7 div.sk-toggleable {background-color: white;}#sk-container-id-7 label.sk-toggleable__label {cursor: pointer;display: block;width: 100%;margin-bottom: 0;padding: 0.3em;box-sizing: border-box;text-align: center;}#sk-container-id-7 label.sk-toggleable__label-arrow:before {content: \"▸\";float: left;margin-right: 0.25em;color: #696969;}#sk-container-id-7 label.sk-toggleable__label-arrow:hover:before {color: black;}#sk-container-id-7 div.sk-estimator:hover label.sk-toggleable__label-arrow:before {color: black;}#sk-container-id-7 div.sk-toggleable__content {max-height: 0;max-width: 0;overflow: hidden;text-align: left;background-color: #f0f8ff;}#sk-container-id-7 div.sk-toggleable__content pre {margin: 0.2em;color: black;border-radius: 0.25em;background-color: #f0f8ff;}#sk-container-id-7 input.sk-toggleable__control:checked~div.sk-toggleable__content {max-height: 200px;max-width: 100%;overflow: auto;}#sk-container-id-7 input.sk-toggleable__control:checked~label.sk-toggleable__label-arrow:before {content: \"▾\";}#sk-container-id-7 div.sk-estimator input.sk-toggleable__control:checked~label.sk-toggleable__label {background-color: #d4ebff;}#sk-container-id-7 div.sk-label input.sk-toggleable__control:checked~label.sk-toggleable__label {background-color: #d4ebff;}#sk-container-id-7 input.sk-hidden--visually {border: 0;clip: rect(1px 1px 1px 1px);clip: rect(1px, 1px, 1px, 1px);height: 1px;margin: -1px;overflow: hidden;padding: 0;position: absolute;width: 1px;}#sk-container-id-7 div.sk-estimator {font-family: monospace;background-color: #f0f8ff;border: 1px dotted black;border-radius: 0.25em;box-sizing: border-box;margin-bottom: 0.5em;}#sk-container-id-7 div.sk-estimator:hover {background-color: #d4ebff;}#sk-container-id-7 div.sk-parallel-item::after {content: \"\";width: 100%;border-bottom: 1px solid gray;flex-grow: 1;}#sk-container-id-7 div.sk-label:hover label.sk-toggleable__label {background-color: #d4ebff;}#sk-container-id-7 div.sk-serial::before {content: \"\";position: absolute;border-left: 1px solid gray;box-sizing: border-box;top: 0;bottom: 0;left: 50%;z-index: 0;}#sk-container-id-7 div.sk-serial {display: flex;flex-direction: column;align-items: center;background-color: white;padding-right: 0.2em;padding-left: 0.2em;position: relative;}#sk-container-id-7 div.sk-item {position: relative;z-index: 1;}#sk-container-id-7 div.sk-parallel {display: flex;align-items: stretch;justify-content: center;background-color: white;position: relative;}#sk-container-id-7 div.sk-item::before, #sk-container-id-7 div.sk-parallel-item::before {content: \"\";position: absolute;border-left: 1px solid gray;box-sizing: border-box;top: 0;bottom: 0;left: 50%;z-index: -1;}#sk-container-id-7 div.sk-parallel-item {display: flex;flex-direction: column;z-index: 1;position: relative;background-color: white;}#sk-container-id-7 div.sk-parallel-item:first-child::after {align-self: flex-end;width: 50%;}#sk-container-id-7 div.sk-parallel-item:last-child::after {align-self: flex-start;width: 50%;}#sk-container-id-7 div.sk-parallel-item:only-child::after {width: 0;}#sk-container-id-7 div.sk-dashed-wrapped {border: 1px dashed gray;margin: 0 0.4em 0.5em 0.4em;box-sizing: border-box;padding-bottom: 0.4em;background-color: white;}#sk-container-id-7 div.sk-label label {font-family: monospace;font-weight: bold;display: inline-block;line-height: 1.2em;}#sk-container-id-7 div.sk-label-container {text-align: center;}#sk-container-id-7 div.sk-container {/* jupyter's `normalize.less` sets `[hidden] { display: none; }` but bootstrap.min.css set `[hidden] { display: none !important; }` so we also need the `!important` here to be able to override the default hidden behavior on the sphinx rendered scikit-learn.org. See: https://github.com/scikit-learn/scikit-learn/issues/21755 */display: inline-block !important;position: relative;}#sk-container-id-7 div.sk-text-repr-fallback {display: none;}</style><div id=\"sk-container-id-7\" class=\"sk-top-container\"><div class=\"sk-text-repr-fallback\"><pre>GridSearchCV(cv=10, estimator=LogisticRegression(),\n",
              "             param_grid={&#x27;C&#x27;: array([0.0001    , 0.00110909, 0.00211818, 0.00312727, 0.00413636,\n",
              "       0.00514545, 0.00615455, 0.00716364, 0.00817273, 0.00918182,\n",
              "       0.01019091, 0.0112    , 0.01220909, 0.01321818, 0.01422727,\n",
              "       0.01523636, 0.01624545, 0.01725455, 0.01826364, 0.01927273,\n",
              "       0.02028182, 0.02129091, 0.0223    , 0.02330909, 0.02431818,\n",
              "       0.02532727, 0.0...\n",
              "       0.07073636, 0.07174545, 0.07275455, 0.07376364, 0.07477273,\n",
              "       0.07578182, 0.07679091, 0.0778    , 0.07880909, 0.07981818,\n",
              "       0.08082727, 0.08183636, 0.08284545, 0.08385455, 0.08486364,\n",
              "       0.08587273, 0.08688182, 0.08789091, 0.0889    , 0.08990909,\n",
              "       0.09091818, 0.09192727, 0.09293636, 0.09394545, 0.09495455,\n",
              "       0.09596364, 0.09697273, 0.09798182, 0.09899091, 0.1       ]),\n",
              "                         &#x27;class_weight&#x27;: [&#x27;balanced&#x27;, None],\n",
              "                         &#x27;penalty&#x27;: [&#x27;l1&#x27;, &#x27;l2&#x27;]},\n",
              "             scoring=&#x27;roc_auc&#x27;)</pre><b>In a Jupyter environment, please rerun this cell to show the HTML representation or trust the notebook. <br />On GitHub, the HTML representation is unable to render, please try loading this page with nbviewer.org.</b></div><div class=\"sk-container\" hidden><div class=\"sk-item sk-dashed-wrapped\"><div class=\"sk-label-container\"><div class=\"sk-label sk-toggleable\"><input class=\"sk-toggleable__control sk-hidden--visually\" id=\"sk-estimator-id-13\" type=\"checkbox\" ><label for=\"sk-estimator-id-13\" class=\"sk-toggleable__label sk-toggleable__label-arrow\">GridSearchCV</label><div class=\"sk-toggleable__content\"><pre>GridSearchCV(cv=10, estimator=LogisticRegression(),\n",
              "             param_grid={&#x27;C&#x27;: array([0.0001    , 0.00110909, 0.00211818, 0.00312727, 0.00413636,\n",
              "       0.00514545, 0.00615455, 0.00716364, 0.00817273, 0.00918182,\n",
              "       0.01019091, 0.0112    , 0.01220909, 0.01321818, 0.01422727,\n",
              "       0.01523636, 0.01624545, 0.01725455, 0.01826364, 0.01927273,\n",
              "       0.02028182, 0.02129091, 0.0223    , 0.02330909, 0.02431818,\n",
              "       0.02532727, 0.0...\n",
              "       0.07073636, 0.07174545, 0.07275455, 0.07376364, 0.07477273,\n",
              "       0.07578182, 0.07679091, 0.0778    , 0.07880909, 0.07981818,\n",
              "       0.08082727, 0.08183636, 0.08284545, 0.08385455, 0.08486364,\n",
              "       0.08587273, 0.08688182, 0.08789091, 0.0889    , 0.08990909,\n",
              "       0.09091818, 0.09192727, 0.09293636, 0.09394545, 0.09495455,\n",
              "       0.09596364, 0.09697273, 0.09798182, 0.09899091, 0.1       ]),\n",
              "                         &#x27;class_weight&#x27;: [&#x27;balanced&#x27;, None],\n",
              "                         &#x27;penalty&#x27;: [&#x27;l1&#x27;, &#x27;l2&#x27;]},\n",
              "             scoring=&#x27;roc_auc&#x27;)</pre></div></div></div><div class=\"sk-parallel\"><div class=\"sk-parallel-item\"><div class=\"sk-item\"><div class=\"sk-label-container\"><div class=\"sk-label sk-toggleable\"><input class=\"sk-toggleable__control sk-hidden--visually\" id=\"sk-estimator-id-14\" type=\"checkbox\" ><label for=\"sk-estimator-id-14\" class=\"sk-toggleable__label sk-toggleable__label-arrow\">estimator: LogisticRegression</label><div class=\"sk-toggleable__content\"><pre>LogisticRegression()</pre></div></div></div><div class=\"sk-serial\"><div class=\"sk-item\"><div class=\"sk-estimator sk-toggleable\"><input class=\"sk-toggleable__control sk-hidden--visually\" id=\"sk-estimator-id-15\" type=\"checkbox\" ><label for=\"sk-estimator-id-15\" class=\"sk-toggleable__label sk-toggleable__label-arrow\">LogisticRegression</label><div class=\"sk-toggleable__content\"><pre>LogisticRegression()</pre></div></div></div></div></div></div></div></div></div></div>"
            ]
          },
          "metadata": {},
          "execution_count": 45
        }
      ]
    },
    {
      "cell_type": "code",
      "source": [
        "grid_search.best_estimator_"
      ],
      "metadata": {
        "colab": {
          "base_uri": "https://localhost:8080/",
          "height": 74
        },
        "id": "FNmolhqc6uS5",
        "outputId": "b6a34e63-6917-4ddd-d373-bf90fb6da31b"
      },
      "execution_count": 46,
      "outputs": [
        {
          "output_type": "execute_result",
          "data": {
            "text/plain": [
              "LogisticRegression(C=0.020281818181818182)"
            ],
            "text/html": [
              "<style>#sk-container-id-8 {color: black;background-color: white;}#sk-container-id-8 pre{padding: 0;}#sk-container-id-8 div.sk-toggleable {background-color: white;}#sk-container-id-8 label.sk-toggleable__label {cursor: pointer;display: block;width: 100%;margin-bottom: 0;padding: 0.3em;box-sizing: border-box;text-align: center;}#sk-container-id-8 label.sk-toggleable__label-arrow:before {content: \"▸\";float: left;margin-right: 0.25em;color: #696969;}#sk-container-id-8 label.sk-toggleable__label-arrow:hover:before {color: black;}#sk-container-id-8 div.sk-estimator:hover label.sk-toggleable__label-arrow:before {color: black;}#sk-container-id-8 div.sk-toggleable__content {max-height: 0;max-width: 0;overflow: hidden;text-align: left;background-color: #f0f8ff;}#sk-container-id-8 div.sk-toggleable__content pre {margin: 0.2em;color: black;border-radius: 0.25em;background-color: #f0f8ff;}#sk-container-id-8 input.sk-toggleable__control:checked~div.sk-toggleable__content {max-height: 200px;max-width: 100%;overflow: auto;}#sk-container-id-8 input.sk-toggleable__control:checked~label.sk-toggleable__label-arrow:before {content: \"▾\";}#sk-container-id-8 div.sk-estimator input.sk-toggleable__control:checked~label.sk-toggleable__label {background-color: #d4ebff;}#sk-container-id-8 div.sk-label input.sk-toggleable__control:checked~label.sk-toggleable__label {background-color: #d4ebff;}#sk-container-id-8 input.sk-hidden--visually {border: 0;clip: rect(1px 1px 1px 1px);clip: rect(1px, 1px, 1px, 1px);height: 1px;margin: -1px;overflow: hidden;padding: 0;position: absolute;width: 1px;}#sk-container-id-8 div.sk-estimator {font-family: monospace;background-color: #f0f8ff;border: 1px dotted black;border-radius: 0.25em;box-sizing: border-box;margin-bottom: 0.5em;}#sk-container-id-8 div.sk-estimator:hover {background-color: #d4ebff;}#sk-container-id-8 div.sk-parallel-item::after {content: \"\";width: 100%;border-bottom: 1px solid gray;flex-grow: 1;}#sk-container-id-8 div.sk-label:hover label.sk-toggleable__label {background-color: #d4ebff;}#sk-container-id-8 div.sk-serial::before {content: \"\";position: absolute;border-left: 1px solid gray;box-sizing: border-box;top: 0;bottom: 0;left: 50%;z-index: 0;}#sk-container-id-8 div.sk-serial {display: flex;flex-direction: column;align-items: center;background-color: white;padding-right: 0.2em;padding-left: 0.2em;position: relative;}#sk-container-id-8 div.sk-item {position: relative;z-index: 1;}#sk-container-id-8 div.sk-parallel {display: flex;align-items: stretch;justify-content: center;background-color: white;position: relative;}#sk-container-id-8 div.sk-item::before, #sk-container-id-8 div.sk-parallel-item::before {content: \"\";position: absolute;border-left: 1px solid gray;box-sizing: border-box;top: 0;bottom: 0;left: 50%;z-index: -1;}#sk-container-id-8 div.sk-parallel-item {display: flex;flex-direction: column;z-index: 1;position: relative;background-color: white;}#sk-container-id-8 div.sk-parallel-item:first-child::after {align-self: flex-end;width: 50%;}#sk-container-id-8 div.sk-parallel-item:last-child::after {align-self: flex-start;width: 50%;}#sk-container-id-8 div.sk-parallel-item:only-child::after {width: 0;}#sk-container-id-8 div.sk-dashed-wrapped {border: 1px dashed gray;margin: 0 0.4em 0.5em 0.4em;box-sizing: border-box;padding-bottom: 0.4em;background-color: white;}#sk-container-id-8 div.sk-label label {font-family: monospace;font-weight: bold;display: inline-block;line-height: 1.2em;}#sk-container-id-8 div.sk-label-container {text-align: center;}#sk-container-id-8 div.sk-container {/* jupyter's `normalize.less` sets `[hidden] { display: none; }` but bootstrap.min.css set `[hidden] { display: none !important; }` so we also need the `!important` here to be able to override the default hidden behavior on the sphinx rendered scikit-learn.org. See: https://github.com/scikit-learn/scikit-learn/issues/21755 */display: inline-block !important;position: relative;}#sk-container-id-8 div.sk-text-repr-fallback {display: none;}</style><div id=\"sk-container-id-8\" class=\"sk-top-container\"><div class=\"sk-text-repr-fallback\"><pre>LogisticRegression(C=0.020281818181818182)</pre><b>In a Jupyter environment, please rerun this cell to show the HTML representation or trust the notebook. <br />On GitHub, the HTML representation is unable to render, please try loading this page with nbviewer.org.</b></div><div class=\"sk-container\" hidden><div class=\"sk-item\"><div class=\"sk-estimator sk-toggleable\"><input class=\"sk-toggleable__control sk-hidden--visually\" id=\"sk-estimator-id-16\" type=\"checkbox\" checked><label for=\"sk-estimator-id-16\" class=\"sk-toggleable__label sk-toggleable__label-arrow\">LogisticRegression</label><div class=\"sk-toggleable__content\"><pre>LogisticRegression(C=0.020281818181818182)</pre></div></div></div></div></div>"
            ]
          },
          "metadata": {},
          "execution_count": 46
        }
      ]
    },
    {
      "cell_type": "code",
      "source": [
        "logr=grid_search.best_estimator_"
      ],
      "metadata": {
        "id": "5JDXCLJA65eT"
      },
      "execution_count": 47,
      "outputs": []
    },
    {
      "cell_type": "code",
      "source": [
        "def report(results, n_top=3):\n",
        "  for i in range(1, n_top + 1):\n",
        "    candidates = np.flatnonzero(results['rank_test_score'] == i)\n",
        "    for candidate in candidates:\n",
        "      print(\"Model with rank: {0}\".format(i))\n",
        "      print(\"Mean validation score: {0:.3f} (std: {1:.3f})\".format(\n",
        "                  results['mean_test_score'][candidate],\n",
        "                  results['std_test_score'][candidate]))\n",
        "      print(\"Parameters: {0}\".format(results['params'][candidate]))\n",
        "      print(\"\")"
      ],
      "metadata": {
        "id": "J9HmVIFs_JRK"
      },
      "execution_count": 48,
      "outputs": []
    },
    {
      "cell_type": "code",
      "source": [
        "report(grid_search.cv_results_,5)"
      ],
      "metadata": {
        "colab": {
          "base_uri": "https://localhost:8080/"
        },
        "id": "EMF6kkOL_csS",
        "outputId": "74628589-ee36-485f-b7db-20d147c846c3"
      },
      "execution_count": 49,
      "outputs": [
        {
          "output_type": "stream",
          "name": "stdout",
          "text": [
            "Model with rank: 1\n",
            "Mean validation score: 0.734 (std: 0.050)\n",
            "Parameters: {'C': 0.020281818181818182, 'class_weight': None, 'penalty': 'l2'}\n",
            "\n",
            "Model with rank: 2\n",
            "Mean validation score: 0.732 (std: 0.053)\n",
            "Parameters: {'C': 0.04046363636363637, 'class_weight': None, 'penalty': 'l2'}\n",
            "\n",
            "Model with rank: 3\n",
            "Mean validation score: 0.732 (std: 0.052)\n",
            "Parameters: {'C': 0.03642727272727273, 'class_weight': None, 'penalty': 'l2'}\n",
            "\n",
            "Model with rank: 4\n",
            "Mean validation score: 0.732 (std: 0.051)\n",
            "Parameters: {'C': 0.027345454545454544, 'class_weight': None, 'penalty': 'l2'}\n",
            "\n",
            "Model with rank: 5\n",
            "Mean validation score: 0.732 (std: 0.052)\n",
            "Parameters: {'C': 0.032390909090909095, 'class_weight': None, 'penalty': 'l2'}\n",
            "\n"
          ]
        }
      ]
    },
    {
      "cell_type": "code",
      "source": [
        "logr.fit(x_train1,y_train1)"
      ],
      "metadata": {
        "colab": {
          "base_uri": "https://localhost:8080/",
          "height": 74
        },
        "id": "1mNjL7pN_mBy",
        "outputId": "ea79afb9-c083-48b6-8580-271dff6700f8"
      },
      "execution_count": 50,
      "outputs": [
        {
          "output_type": "execute_result",
          "data": {
            "text/plain": [
              "LogisticRegression(C=0.020281818181818182)"
            ],
            "text/html": [
              "<style>#sk-container-id-9 {color: black;background-color: white;}#sk-container-id-9 pre{padding: 0;}#sk-container-id-9 div.sk-toggleable {background-color: white;}#sk-container-id-9 label.sk-toggleable__label {cursor: pointer;display: block;width: 100%;margin-bottom: 0;padding: 0.3em;box-sizing: border-box;text-align: center;}#sk-container-id-9 label.sk-toggleable__label-arrow:before {content: \"▸\";float: left;margin-right: 0.25em;color: #696969;}#sk-container-id-9 label.sk-toggleable__label-arrow:hover:before {color: black;}#sk-container-id-9 div.sk-estimator:hover label.sk-toggleable__label-arrow:before {color: black;}#sk-container-id-9 div.sk-toggleable__content {max-height: 0;max-width: 0;overflow: hidden;text-align: left;background-color: #f0f8ff;}#sk-container-id-9 div.sk-toggleable__content pre {margin: 0.2em;color: black;border-radius: 0.25em;background-color: #f0f8ff;}#sk-container-id-9 input.sk-toggleable__control:checked~div.sk-toggleable__content {max-height: 200px;max-width: 100%;overflow: auto;}#sk-container-id-9 input.sk-toggleable__control:checked~label.sk-toggleable__label-arrow:before {content: \"▾\";}#sk-container-id-9 div.sk-estimator input.sk-toggleable__control:checked~label.sk-toggleable__label {background-color: #d4ebff;}#sk-container-id-9 div.sk-label input.sk-toggleable__control:checked~label.sk-toggleable__label {background-color: #d4ebff;}#sk-container-id-9 input.sk-hidden--visually {border: 0;clip: rect(1px 1px 1px 1px);clip: rect(1px, 1px, 1px, 1px);height: 1px;margin: -1px;overflow: hidden;padding: 0;position: absolute;width: 1px;}#sk-container-id-9 div.sk-estimator {font-family: monospace;background-color: #f0f8ff;border: 1px dotted black;border-radius: 0.25em;box-sizing: border-box;margin-bottom: 0.5em;}#sk-container-id-9 div.sk-estimator:hover {background-color: #d4ebff;}#sk-container-id-9 div.sk-parallel-item::after {content: \"\";width: 100%;border-bottom: 1px solid gray;flex-grow: 1;}#sk-container-id-9 div.sk-label:hover label.sk-toggleable__label {background-color: #d4ebff;}#sk-container-id-9 div.sk-serial::before {content: \"\";position: absolute;border-left: 1px solid gray;box-sizing: border-box;top: 0;bottom: 0;left: 50%;z-index: 0;}#sk-container-id-9 div.sk-serial {display: flex;flex-direction: column;align-items: center;background-color: white;padding-right: 0.2em;padding-left: 0.2em;position: relative;}#sk-container-id-9 div.sk-item {position: relative;z-index: 1;}#sk-container-id-9 div.sk-parallel {display: flex;align-items: stretch;justify-content: center;background-color: white;position: relative;}#sk-container-id-9 div.sk-item::before, #sk-container-id-9 div.sk-parallel-item::before {content: \"\";position: absolute;border-left: 1px solid gray;box-sizing: border-box;top: 0;bottom: 0;left: 50%;z-index: -1;}#sk-container-id-9 div.sk-parallel-item {display: flex;flex-direction: column;z-index: 1;position: relative;background-color: white;}#sk-container-id-9 div.sk-parallel-item:first-child::after {align-self: flex-end;width: 50%;}#sk-container-id-9 div.sk-parallel-item:last-child::after {align-self: flex-start;width: 50%;}#sk-container-id-9 div.sk-parallel-item:only-child::after {width: 0;}#sk-container-id-9 div.sk-dashed-wrapped {border: 1px dashed gray;margin: 0 0.4em 0.5em 0.4em;box-sizing: border-box;padding-bottom: 0.4em;background-color: white;}#sk-container-id-9 div.sk-label label {font-family: monospace;font-weight: bold;display: inline-block;line-height: 1.2em;}#sk-container-id-9 div.sk-label-container {text-align: center;}#sk-container-id-9 div.sk-container {/* jupyter's `normalize.less` sets `[hidden] { display: none; }` but bootstrap.min.css set `[hidden] { display: none !important; }` so we also need the `!important` here to be able to override the default hidden behavior on the sphinx rendered scikit-learn.org. See: https://github.com/scikit-learn/scikit-learn/issues/21755 */display: inline-block !important;position: relative;}#sk-container-id-9 div.sk-text-repr-fallback {display: none;}</style><div id=\"sk-container-id-9\" class=\"sk-top-container\"><div class=\"sk-text-repr-fallback\"><pre>LogisticRegression(C=0.020281818181818182)</pre><b>In a Jupyter environment, please rerun this cell to show the HTML representation or trust the notebook. <br />On GitHub, the HTML representation is unable to render, please try loading this page with nbviewer.org.</b></div><div class=\"sk-container\" hidden><div class=\"sk-item\"><div class=\"sk-estimator sk-toggleable\"><input class=\"sk-toggleable__control sk-hidden--visually\" id=\"sk-estimator-id-17\" type=\"checkbox\" checked><label for=\"sk-estimator-id-17\" class=\"sk-toggleable__label sk-toggleable__label-arrow\">LogisticRegression</label><div class=\"sk-toggleable__content\"><pre>LogisticRegression(C=0.020281818181818182)</pre></div></div></div></div></div>"
            ]
          },
          "metadata": {},
          "execution_count": 50
        }
      ]
    },
    {
      "cell_type": "code",
      "source": [
        "train_score=logr.predict_proba(x_train1)"
      ],
      "metadata": {
        "id": "EKJXJhYNAKGE"
      },
      "execution_count": 51,
      "outputs": []
    },
    {
      "cell_type": "code",
      "source": [
        "train_score"
      ],
      "metadata": {
        "colab": {
          "base_uri": "https://localhost:8080/"
        },
        "id": "oqT4NVdvAaW5",
        "outputId": "f275587e-73a8-4939-b85e-3e32b5f41829"
      },
      "execution_count": 52,
      "outputs": [
        {
          "output_type": "execute_result",
          "data": {
            "text/plain": [
              "array([[0.75338243, 0.24661757],\n",
              "       [0.972643  , 0.027357  ],\n",
              "       [0.98768585, 0.01231415],\n",
              "       ...,\n",
              "       [0.96953285, 0.03046715],\n",
              "       [0.94995958, 0.05004042],\n",
              "       [0.87437171, 0.12562829]])"
            ]
          },
          "metadata": {},
          "execution_count": 52
        }
      ]
    },
    {
      "cell_type": "code",
      "source": [
        "train2_score=logr.predict_proba(x_train2)[:,1]"
      ],
      "metadata": {
        "id": "KPOacyH8Ady-"
      },
      "execution_count": 54,
      "outputs": []
    },
    {
      "cell_type": "code",
      "source": [
        "train2_score"
      ],
      "metadata": {
        "colab": {
          "base_uri": "https://localhost:8080/"
        },
        "id": "uJP7uj_CAywH",
        "outputId": "0677de82-9e0e-439c-bd43-30b0eccb3429"
      },
      "execution_count": 55,
      "outputs": [
        {
          "output_type": "execute_result",
          "data": {
            "text/plain": [
              "array([0.16796014, 0.02902048, 0.0710285 , ..., 0.03732401, 0.06268724,\n",
              "       0.08385139])"
            ]
          },
          "metadata": {},
          "execution_count": 55
        }
      ]
    },
    {
      "cell_type": "code",
      "source": [
        "pd.DataFrame(train2_score,y_train2).to_csv(\"mysubmission.csv\",index=False)"
      ],
      "metadata": {
        "id": "Rz-7DL-WBdK-"
      },
      "execution_count": 65,
      "outputs": []
    },
    {
      "cell_type": "code",
      "source": [
        "sub.info()"
      ],
      "metadata": {
        "colab": {
          "base_uri": "https://localhost:8080/",
          "height": 171
        },
        "id": "GN_UQBi_B9eH",
        "outputId": "b88361e1-6f5b-4953-90b4-8d3d8ff27c7c"
      },
      "execution_count": 60,
      "outputs": [
        {
          "output_type": "error",
          "ename": "AttributeError",
          "evalue": "ignored",
          "traceback": [
            "\u001b[0;31m---------------------------------------------------------------------------\u001b[0m",
            "\u001b[0;31mAttributeError\u001b[0m                            Traceback (most recent call last)",
            "\u001b[0;32m<ipython-input-60-9fbee651c05e>\u001b[0m in \u001b[0;36m<cell line: 1>\u001b[0;34m()\u001b[0m\n\u001b[0;32m----> 1\u001b[0;31m \u001b[0msub\u001b[0m\u001b[0;34m.\u001b[0m\u001b[0minfo\u001b[0m\u001b[0;34m(\u001b[0m\u001b[0;34m)\u001b[0m\u001b[0;34m\u001b[0m\u001b[0;34m\u001b[0m\u001b[0m\n\u001b[0m",
            "\u001b[0;31mAttributeError\u001b[0m: 'list' object has no attribute 'info'"
          ]
        }
      ]
    },
    {
      "cell_type": "code",
      "source": [],
      "metadata": {
        "id": "GbXCOi_-B_ry"
      },
      "execution_count": null,
      "outputs": []
    }
  ]
}